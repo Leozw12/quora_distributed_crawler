{
 "cells": [
  {
   "cell_type": "code",
   "execution_count": 38,
   "id": "9d7a1140-11b8-493f-93dc-48a42cf3cadf",
   "metadata": {},
   "outputs": [],
   "source": [
    "import pandas as pd\n",
    "from tqdm import tqdm\n",
    "from pathlib import Path"
   ]
  },
  {
   "cell_type": "code",
   "execution_count": 41,
   "id": "0bc5e945-e5df-4c5a-9da7-1a5b434a6e2a",
   "metadata": {},
   "outputs": [],
   "source": [
    "res_files = list(Path('./results').glob('*'))"
   ]
  },
  {
   "cell_type": "code",
   "execution_count": 47,
   "id": "07e91318-2aac-40c5-b50a-3d4abfe04922",
   "metadata": {},
   "outputs": [
    {
     "name": "stderr",
     "output_type": "stream",
     "text": [
      "100%|█████████████████████████████████████████████████████████████████████████████████████████████████████████████████████████████████████████████████████████████████████████████████████████████████| 25/25 [00:00<00:00, 246.44it/s]\n"
     ]
    }
   ],
   "source": [
    "# 合并结果文件\n",
    "with open('./results.txt', 'a', encoding='utf-8') as target_fo:\n",
    "    for source_path in tqdm(res_files, ):\n",
    "        with open(source_path, 'r', encoding='utf-8') as source_fo:\n",
    "            target_fo.write(source_fo.read())"
   ]
  },
  {
   "cell_type": "code",
   "execution_count": 36,
   "id": "e23c890d-15b8-4c0f-8bd2-91de7229d37a",
   "metadata": {},
   "outputs": [],
   "source": [
    "# 去重\n",
    "data = pd.read_csv('[b-z]results.txt', sep=' ', header=None, names=['qid', 'url'])\n",
    "data_dd = data.drop_duplicates()"
   ]
  },
  {
   "cell_type": "code",
   "execution_count": null,
   "id": "2474f2ea-0e6e-48ac-8cfb-c9290a20f9c7",
   "metadata": {},
   "outputs": [],
   "source": [
    "data_dd"
   ]
  },
  {
   "cell_type": "code",
   "execution_count": 35,
   "id": "4daabb6b-05c1-4068-9470-5bf0b7b75634",
   "metadata": {},
   "outputs": [],
   "source": [
    "data_dd.to_csv('[b-z]results_dd.txt', sep=' ', index=False, header=None)"
   ]
  },
  {
   "cell_type": "code",
   "execution_count": null,
   "id": "c056ecbe-b9f9-4ecc-bb76-77e0b4f663ec",
   "metadata": {},
   "outputs": [],
   "source": []
  }
 ],
 "metadata": {
  "kernelspec": {
   "display_name": "Python 3 (ipykernel)",
   "language": "python",
   "name": "python3"
  },
  "language_info": {
   "codemirror_mode": {
    "name": "ipython",
    "version": 3
   },
   "file_extension": ".py",
   "mimetype": "text/x-python",
   "name": "python",
   "nbconvert_exporter": "python",
   "pygments_lexer": "ipython3",
   "version": "3.11.5"
  }
 },
 "nbformat": 4,
 "nbformat_minor": 5
}
