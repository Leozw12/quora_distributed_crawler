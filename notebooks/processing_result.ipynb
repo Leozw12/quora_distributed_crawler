{
 "cells": [
  {
   "cell_type": "code",
   "execution_count": 27,
   "id": "9d7a1140-11b8-493f-93dc-48a42cf3cadf",
   "metadata": {},
   "outputs": [],
   "source": [
    "import pandas as pd\n",
    "from tqdm import tqdm\n",
    "from pathlib import Path"
   ]
  },
  {
   "cell_type": "code",
   "execution_count": 39,
   "id": "0bc5e945-e5df-4c5a-9da7-1a5b434a6e2a",
   "metadata": {},
   "outputs": [],
   "source": [
    "res_files = list(Path(r'C:\\Users\\Mechrevo\\Desktop\\quora-url').glob('*'))"
   ]
  },
  {
   "cell_type": "code",
   "execution_count": null,
   "id": "07e91318-2aac-40c5-b50a-3d4abfe04922",
   "metadata": {},
   "outputs": [],
   "source": [
    "# 合并结果文件\n",
    "with open('./results.txt', 'a', encoding='utf-8') as target_fo:\n",
    "    for source_path in tqdm(res_files, ):\n",
    "        if source_path.is_dir():\n",
    "            continue\n",
    "        with open(source_path, 'r', encoding='utf-8') as source_fo:\n",
    "            target_fo.write(source_fo.read())"
   ]
  },
  {
   "cell_type": "code",
   "execution_count": 42,
   "id": "e23c890d-15b8-4c0f-8bd2-91de7229d37a",
   "metadata": {},
   "outputs": [],
   "source": [
    "# 去重\n",
    "data = pd.read_csv(r'C:\\Users\\Mechrevo\\Desktop\\results.txt', sep=' ', header=None, names=['qid', 'url'])\n",
    "data_dd = data.drop_duplicates()"
   ]
  },
  {
   "cell_type": "code",
   "execution_count": 47,
   "id": "ed55f96a-bfd7-479b-b4de-ed6778ee24e1",
   "metadata": {},
   "outputs": [
    {
     "data": {
      "text/html": [
       "<div>\n",
       "<style scoped>\n",
       "    .dataframe tbody tr th:only-of-type {\n",
       "        vertical-align: middle;\n",
       "    }\n",
       "\n",
       "    .dataframe tbody tr th {\n",
       "        vertical-align: top;\n",
       "    }\n",
       "\n",
       "    .dataframe thead th {\n",
       "        text-align: right;\n",
       "    }\n",
       "</style>\n",
       "<table border=\"1\" class=\"dataframe\">\n",
       "  <thead>\n",
       "    <tr style=\"text-align: right;\">\n",
       "      <th></th>\n",
       "      <th>qid</th>\n",
       "      <th>url</th>\n",
       "    </tr>\n",
       "  </thead>\n",
       "  <tbody>\n",
       "    <tr>\n",
       "      <th>0</th>\n",
       "      <td>10253303</td>\n",
       "      <td>/If-1-circ4-5-and-2-circ5-12-and-3-circ6-21-th...</td>\n",
       "    </tr>\n",
       "    <tr>\n",
       "      <th>1</th>\n",
       "      <td>3351699</td>\n",
       "      <td>/I-borrowed-50-from-mum-and-50-from-dad-to-buy...</td>\n",
       "    </tr>\n",
       "    <tr>\n",
       "      <th>2</th>\n",
       "      <td>22322547</td>\n",
       "      <td>/How-do-you-calculate-1+2+3+4+5+6+7+8+9+10-qui...</td>\n",
       "    </tr>\n",
       "    <tr>\n",
       "      <th>3</th>\n",
       "      <td>181782</td>\n",
       "      <td>/Why-is-0-999-ldots-equal-to-1</td>\n",
       "    </tr>\n",
       "    <tr>\n",
       "      <th>4</th>\n",
       "      <td>13479355</td>\n",
       "      <td>/Whats-the-answer-for-8÷2-3+1-Is-it-16-or-1</td>\n",
       "    </tr>\n",
       "    <tr>\n",
       "      <th>...</th>\n",
       "      <td>...</td>\n",
       "      <td>...</td>\n",
       "    </tr>\n",
       "    <tr>\n",
       "      <th>8394137</th>\n",
       "      <td>72259141</td>\n",
       "      <td>/How-do-you-edit-your-zoom-recordings</td>\n",
       "    </tr>\n",
       "    <tr>\n",
       "      <th>8394138</th>\n",
       "      <td>37916675</td>\n",
       "      <td>/How-do-camcorders-zoom-in-10x-or-more-with-no...</td>\n",
       "    </tr>\n",
       "    <tr>\n",
       "      <th>8394139</th>\n",
       "      <td>84157064</td>\n",
       "      <td>/What-are-the-norms-around-eating-during-a-vir...</td>\n",
       "    </tr>\n",
       "    <tr>\n",
       "      <th>8394140</th>\n",
       "      <td>7049432</td>\n",
       "      <td>/How-does-Zoom-work</td>\n",
       "    </tr>\n",
       "    <tr>\n",
       "      <th>8394141</th>\n",
       "      <td>9103684</td>\n",
       "      <td>/How-do-I-zoom-out-on-my-computer-screen</td>\n",
       "    </tr>\n",
       "  </tbody>\n",
       "</table>\n",
       "<p>8394142 rows × 2 columns</p>\n",
       "</div>"
      ],
      "text/plain": [
       "              qid                                                url\n",
       "0        10253303  /If-1-circ4-5-and-2-circ5-12-and-3-circ6-21-th...\n",
       "1         3351699  /I-borrowed-50-from-mum-and-50-from-dad-to-buy...\n",
       "2        22322547  /How-do-you-calculate-1+2+3+4+5+6+7+8+9+10-qui...\n",
       "3          181782                     /Why-is-0-999-ldots-equal-to-1\n",
       "4        13479355        /Whats-the-answer-for-8÷2-3+1-Is-it-16-or-1\n",
       "...           ...                                                ...\n",
       "8394137  72259141              /How-do-you-edit-your-zoom-recordings\n",
       "8394138  37916675  /How-do-camcorders-zoom-in-10x-or-more-with-no...\n",
       "8394139  84157064  /What-are-the-norms-around-eating-during-a-vir...\n",
       "8394140   7049432                                /How-does-Zoom-work\n",
       "8394141   9103684           /How-do-I-zoom-out-on-my-computer-screen\n",
       "\n",
       "[8394142 rows x 2 columns]"
      ]
     },
     "execution_count": 47,
     "metadata": {},
     "output_type": "execute_result"
    }
   ],
   "source": [
    "data"
   ]
  },
  {
   "cell_type": "code",
   "execution_count": 48,
   "id": "2474f2ea-0e6e-48ac-8cfb-c9290a20f9c7",
   "metadata": {},
   "outputs": [
    {
     "data": {
      "text/html": [
       "<div>\n",
       "<style scoped>\n",
       "    .dataframe tbody tr th:only-of-type {\n",
       "        vertical-align: middle;\n",
       "    }\n",
       "\n",
       "    .dataframe tbody tr th {\n",
       "        vertical-align: top;\n",
       "    }\n",
       "\n",
       "    .dataframe thead th {\n",
       "        text-align: right;\n",
       "    }\n",
       "</style>\n",
       "<table border=\"1\" class=\"dataframe\">\n",
       "  <thead>\n",
       "    <tr style=\"text-align: right;\">\n",
       "      <th></th>\n",
       "      <th>qid</th>\n",
       "      <th>url</th>\n",
       "    </tr>\n",
       "  </thead>\n",
       "  <tbody>\n",
       "    <tr>\n",
       "      <th>0</th>\n",
       "      <td>10253303</td>\n",
       "      <td>/If-1-circ4-5-and-2-circ5-12-and-3-circ6-21-th...</td>\n",
       "    </tr>\n",
       "    <tr>\n",
       "      <th>1</th>\n",
       "      <td>3351699</td>\n",
       "      <td>/I-borrowed-50-from-mum-and-50-from-dad-to-buy...</td>\n",
       "    </tr>\n",
       "    <tr>\n",
       "      <th>2</th>\n",
       "      <td>22322547</td>\n",
       "      <td>/How-do-you-calculate-1+2+3+4+5+6+7+8+9+10-qui...</td>\n",
       "    </tr>\n",
       "    <tr>\n",
       "      <th>3</th>\n",
       "      <td>181782</td>\n",
       "      <td>/Why-is-0-999-ldots-equal-to-1</td>\n",
       "    </tr>\n",
       "    <tr>\n",
       "      <th>4</th>\n",
       "      <td>13479355</td>\n",
       "      <td>/Whats-the-answer-for-8÷2-3+1-Is-it-16-or-1</td>\n",
       "    </tr>\n",
       "    <tr>\n",
       "      <th>...</th>\n",
       "      <td>...</td>\n",
       "      <td>...</td>\n",
       "    </tr>\n",
       "    <tr>\n",
       "      <th>8394137</th>\n",
       "      <td>72259141</td>\n",
       "      <td>/How-do-you-edit-your-zoom-recordings</td>\n",
       "    </tr>\n",
       "    <tr>\n",
       "      <th>8394138</th>\n",
       "      <td>37916675</td>\n",
       "      <td>/How-do-camcorders-zoom-in-10x-or-more-with-no...</td>\n",
       "    </tr>\n",
       "    <tr>\n",
       "      <th>8394139</th>\n",
       "      <td>84157064</td>\n",
       "      <td>/What-are-the-norms-around-eating-during-a-vir...</td>\n",
       "    </tr>\n",
       "    <tr>\n",
       "      <th>8394140</th>\n",
       "      <td>7049432</td>\n",
       "      <td>/How-does-Zoom-work</td>\n",
       "    </tr>\n",
       "    <tr>\n",
       "      <th>8394141</th>\n",
       "      <td>9103684</td>\n",
       "      <td>/How-do-I-zoom-out-on-my-computer-screen</td>\n",
       "    </tr>\n",
       "  </tbody>\n",
       "</table>\n",
       "<p>7103919 rows × 2 columns</p>\n",
       "</div>"
      ],
      "text/plain": [
       "              qid                                                url\n",
       "0        10253303  /If-1-circ4-5-and-2-circ5-12-and-3-circ6-21-th...\n",
       "1         3351699  /I-borrowed-50-from-mum-and-50-from-dad-to-buy...\n",
       "2        22322547  /How-do-you-calculate-1+2+3+4+5+6+7+8+9+10-qui...\n",
       "3          181782                     /Why-is-0-999-ldots-equal-to-1\n",
       "4        13479355        /Whats-the-answer-for-8÷2-3+1-Is-it-16-or-1\n",
       "...           ...                                                ...\n",
       "8394137  72259141              /How-do-you-edit-your-zoom-recordings\n",
       "8394138  37916675  /How-do-camcorders-zoom-in-10x-or-more-with-no...\n",
       "8394139  84157064  /What-are-the-norms-around-eating-during-a-vir...\n",
       "8394140   7049432                                /How-does-Zoom-work\n",
       "8394141   9103684           /How-do-I-zoom-out-on-my-computer-screen\n",
       "\n",
       "[7103919 rows x 2 columns]"
      ]
     },
     "execution_count": 48,
     "metadata": {},
     "output_type": "execute_result"
    }
   ],
   "source": [
    "data_dd"
   ]
  },
  {
   "cell_type": "code",
   "execution_count": 35,
   "id": "4daabb6b-05c1-4068-9470-5bf0b7b75634",
   "metadata": {},
   "outputs": [],
   "source": [
    "# 输出去重后的结果\n",
    "data_dd.to_csv('results_dd.txt', sep=' ', index=False, header=None)"
   ]
  },
  {
   "cell_type": "code",
   "execution_count": 50,
   "id": "c056ecbe-b9f9-4ecc-bb76-77e0b4f663ec",
   "metadata": {},
   "outputs": [],
   "source": [
    "data_dd.to_parquet('quora_url_id.parquet', index=False)"
   ]
  },
  {
   "cell_type": "code",
   "execution_count": 3,
   "id": "7405fc10-a3b5-47dc-bca0-df039bd36e30",
   "metadata": {},
   "outputs": [],
   "source": [
    "# 关键词文件合并\n",
    "import os\n",
    "import shutil\n",
    "\n",
    "def merge_text_files(input_dir, output_file):\n",
    "    with open(output_file, 'w') as output:\n",
    "        for filename in os.listdir(input_dir):\n",
    "            if filename.endswith(\".txt\"):\n",
    "                filepath = os.path.join(input_dir, filename)\n",
    "                with open(filepath, 'r') as file:\n",
    "                    shutil.copyfileobj(file, output)\n",
    "\n",
    "merge_text_files(r\"C:\\Users\\Mechrevo\\Desktop\\wordlists\", r\"C:\\Users\\Mechrevo\\Desktop\\merged.txt\")"
   ]
  },
  {
   "cell_type": "code",
   "execution_count": null,
   "id": "bdeb9c60-6ec7-4052-b78e-29dc5042df7b",
   "metadata": {},
   "outputs": [],
   "source": []
  },
  {
   "cell_type": "code",
   "execution_count": 28,
   "id": "7889eeb2-357a-4908-bb2c-c232729e4182",
   "metadata": {},
   "outputs": [
    {
     "data": {
      "text/plain": [
       "7242"
      ]
     },
     "execution_count": 28,
     "metadata": {},
     "output_type": "execute_result"
    }
   ],
   "source": [
    "# 提取已完成的关键词\n",
    "import os\n",
    "import re\n",
    "\n",
    "directory = r'C:\\Users\\Mechrevo\\Desktop\\quora-url'\n",
    "\n",
    "# 正则表达式匹配方括号内的内容\n",
    "pattern = re.compile(r'\\[(.*?)\\]results\\.txt')\n",
    "\n",
    "# 存储提取结果\n",
    "extracted_content = []\n",
    "\n",
    "# 遍历目录中的文件\n",
    "for filename in os.listdir(directory):\n",
    "    match = pattern.match(filename)\n",
    "    if match:\n",
    "        # 提取并添加到结果列表\n",
    "        extracted_content.append(match.group(1).lower())\n",
    "\n",
    "len(extracted_content)"
   ]
  },
  {
   "cell_type": "code",
   "execution_count": 29,
   "id": "e95eb28b-cc42-4a99-b236-b2c12a5cac73",
   "metadata": {
    "scrolled": true
   },
   "outputs": [
    {
     "name": "stdout",
     "output_type": "stream",
     "text": [
      "\n"
     ]
    }
   ],
   "source": [
    "with open(r'C:\\Users\\Mechrevo\\Desktop\\[x] professional_field_word.txt', 'r', encoding='utf-8') as f:\n",
    "    key_list = [line.strip().lower() for line in f.readlines()]\n",
    "\n",
    "with open(r'C:\\Users\\Mechrevo\\Desktop\\data-null.txt', 'r', encoding='utf-8') as f:\n",
    "    null_list = [line.strip().lower() for line in f.readlines()]\n",
    "\n",
    "not_complete = [ item for item in key_list\n",
    "                if item.lower() not in extracted_content and item.lower() not in null_list]\n",
    "print('\\n'.join(not_complete))\n",
    "\n",
    "# for s in set(key_list) - set(extracted_content) - set(null_list):\n",
    "#     print(s)"
   ]
  }
 ],
 "metadata": {
  "kernelspec": {
   "display_name": "Python 3 (ipykernel)",
   "language": "python",
   "name": "python3"
  },
  "language_info": {
   "codemirror_mode": {
    "name": "ipython",
    "version": 3
   },
   "file_extension": ".py",
   "mimetype": "text/x-python",
   "name": "python",
   "nbconvert_exporter": "python",
   "pygments_lexer": "ipython3",
   "version": "3.11.5"
  }
 },
 "nbformat": 4,
 "nbformat_minor": 5
}
